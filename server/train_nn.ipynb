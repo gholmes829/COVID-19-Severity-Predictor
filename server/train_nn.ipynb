{
 "metadata": {
  "language_info": {
   "codemirror_mode": {
    "name": "ipython",
    "version": 3
   },
   "file_extension": ".py",
   "mimetype": "text/x-python",
   "name": "python",
   "nbconvert_exporter": "python",
   "pygments_lexer": "ipython3",
   "version": "3.8.5-final"
  },
  "orig_nbformat": 2,
  "kernelspec": {
   "name": "python385jvsc74a57bd02106d0fb1fed122fab7666594c17d7d7ac0cec37878bb076542b770068e7d9b1",
   "display_name": "Python 3.8.5 64-bit ('neural': conda)"
  }
 },
 "nbformat": 4,
 "nbformat_minor": 2,
 "cells": [
  {
   "cell_type": "code",
   "execution_count": 12,
   "metadata": {},
   "outputs": [
    {
     "output_type": "stream",
     "name": "stderr",
     "text": [
      "WARNING:root:Requests made without an app_token will be subject to strict throttling limits.\n"
     ]
    }
   ],
   "source": [
    "# make sure to install these packages before running:\n",
    "# pip install pandas\n",
    "# pip install sodapy\n",
    "\n",
    "import pandas as pd\n",
    "from sodapy import Socrata\n",
    "\n",
    "# Unauthenticated client only works with public data sets. Note 'None'\n",
    "# in place of application token, and no username or password:\n",
    "client = Socrata(\"data.cdc.gov\", None)\n",
    "\n",
    "# Example authenticated client (needed for non-public datasets):\n",
    "# client = Socrata(data.cdc.gov,\n",
    "#                  MyAppToken,\n",
    "#                  userame=\"user@example.com\",\n",
    "#                  password=\"AFakePassword\")\n",
    "\n",
    "# First 2000 results, returned as JSON from API / converted to Python list of\n",
    "# dictionaries by sodapy.\n",
    "results = client.get_all(\"vbim-akqf\", where=\"(hosp_yn != 'Unknown') and (hosp_yn != 'Missing') and (icu_yn != 'Unknown') and (icu_yn != 'Missing') and (death_yn != 'Unknown') and (death_yn != 'Missing') and (sex != 'Unknown') and (sex != 'Missing') and (sex != 'Other') and (sex != 'NA') and (age_group != 'Missing') and (age_group != 'NA') and (race_ethnicity_combined != 'Missing') and  (race_ethnicity_combined != 'NA') and (race_ethnicity_combined != 'Unknown') and (medcond_yn != 'Missing') and (medcond_yn != 'Unknown')\", limit=22500000)\n",
    "# Convert to pandas DataFrame\n",
    "df = pd.DataFrame.from_records(results)"
   ]
  },
  {
   "cell_type": "code",
   "execution_count": 13,
   "metadata": {},
   "outputs": [
    {
     "output_type": "stream",
     "name": "stdout",
     "text": [
      "      sex    age_group race_ethnicity_combined hosp_yn icu_yn death_yn  \\\n0  Female  0 - 9 Years     White, Non-Hispanic      No     No       No   \n1  Female  0 - 9 Years     White, Non-Hispanic      No     No       No   \n2  Female  0 - 9 Years     White, Non-Hispanic      No     No       No   \n3  Female  0 - 9 Years     White, Non-Hispanic      No     No       No   \n4  Female  0 - 9 Years     White, Non-Hispanic      No     No       No   \n\n  medcond_yn  \n0        Yes  \n1         No  \n2         No  \n3         No  \n4        Yes  \n(642408, 7)\n"
     ]
    }
   ],
   "source": [
    "new_df = df.iloc[:,5:12]\n",
    "\n",
    "print(new_df.head())\n",
    "print(new_df.shape)"
   ]
  },
  {
   "cell_type": "code",
   "execution_count": 14,
   "metadata": {},
   "outputs": [
    {
     "output_type": "stream",
     "name": "stdout",
     "text": [
      "Female    342353\n",
      "Male      300055\n",
      "Name: sex, dtype: int64 \n",
      "\n",
      "20 - 29 Years    103062\n",
      "50 - 59 Years     97649\n",
      "40 - 49 Years     91822\n",
      "30 - 39 Years     91432\n",
      "60 - 69 Years     82583\n",
      "10 - 19 Years     61168\n",
      "70 - 79 Years     53846\n",
      "80+ Years         39577\n",
      "0 - 9 Years       21269\n",
      "Name: age_group, dtype: int64 \n",
      "\n",
      "White, Non-Hispanic                                     399689\n",
      "Hispanic/Latino                                         127430\n",
      "Black, Non-Hispanic                                      66657\n",
      "Multiple/Other, Non-Hispanic                             23417\n",
      "Asian, Non-Hispanic                                      19514\n",
      "Native Hawaiian/Other Pacific Islander, Non-Hispanic      3535\n",
      "American Indian/Alaska Native, Non-Hispanic               2166\n",
      "Name: race_ethnicity_combined, dtype: int64 \n",
      "\n",
      "No     332902\n",
      "Yes    309506\n",
      "Name: medcond_yn, dtype: int64 \n",
      "\n"
     ]
    }
   ],
   "source": [
    "print(new_df.sex.value_counts(), '\\n')\n",
    "print(new_df.age_group.value_counts(), '\\n')\n",
    "print(new_df.race_ethnicity_combined.value_counts(), '\\n')\n",
    "print(new_df.medcond_yn.value_counts(), '\\n')"
   ]
  },
  {
   "cell_type": "code",
   "execution_count": 15,
   "metadata": {},
   "outputs": [
    {
     "output_type": "stream",
     "name": "stdout",
     "text": [
      "No     523988\n",
      "Yes    118420\n",
      "Name: hosp_yn, dtype: int64 \n",
      "\n",
      "No     603347\n",
      "Yes     39061\n",
      "Name: icu_yn, dtype: int64 \n",
      "\n",
      "No     601211\n",
      "Yes     41197\n",
      "Name: death_yn, dtype: int64 \n",
      "\n"
     ]
    }
   ],
   "source": [
    "print(df.hosp_yn.value_counts(), '\\n')\n",
    "print(df.icu_yn.value_counts(), '\\n')\n",
    "print(df.death_yn.value_counts(), '\\n')"
   ]
  },
  {
   "cell_type": "code",
   "execution_count": 16,
   "metadata": {},
   "outputs": [
    {
     "output_type": "stream",
     "name": "stdout",
     "text": [
      "      sex    age_group race_ethnicity_combined medcond_yn\n0  Female  0 - 9 Years     White, Non-Hispanic        Yes\n1  Female  0 - 9 Years     White, Non-Hispanic         No\n2  Female  0 - 9 Years     White, Non-Hispanic         No\n3  Female  0 - 9 Years     White, Non-Hispanic         No\n4  Female  0 - 9 Years     White, Non-Hispanic        Yes \n\n  hosp_yn icu_yn death_yn\n0      No     No       No\n1      No     No       No\n2      No     No       No\n3      No     No       No\n4      No     No       No \n\n"
     ]
    }
   ],
   "source": [
    "features = new_df.iloc[:,[0,1,2,6]]\n",
    "labels = new_df.iloc[:,[3,4,5]]\n",
    "\n",
    "print(features.head(), '\\n')\n",
    "print(labels.head(), '\\n')"
   ]
  },
  {
   "cell_type": "code",
   "execution_count": 17,
   "metadata": {},
   "outputs": [
    {
     "output_type": "stream",
     "name": "stdout",
     "text": [
      "   sex  age_group  medcond_yn  \\\n0    0          0           1   \n1    0          0           0   \n2    0          0           0   \n3    0          0           0   \n4    0          0           1   \n\n   race_American Indian/Alaska Native, Non-Hispanic  race_Asian, Non-Hispanic  \\\n0                                                 0                         0   \n1                                                 0                         0   \n2                                                 0                         0   \n3                                                 0                         0   \n4                                                 0                         0   \n\n   race_Black, Non-Hispanic  race_Hispanic/Latino  \\\n0                         0                     0   \n1                         0                     0   \n2                         0                     0   \n3                         0                     0   \n4                         0                     0   \n\n   race_Multiple/Other, Non-Hispanic  \\\n0                                  0   \n1                                  0   \n2                                  0   \n3                                  0   \n4                                  0   \n\n   race_Native Hawaiian/Other Pacific Islander, Non-Hispanic  \\\n0                                                  0           \n1                                                  0           \n2                                                  0           \n3                                                  0           \n4                                                  0           \n\n   race_White, Non-Hispanic  \n0                         1  \n1                         1  \n2                         1  \n3                         1  \n4                         1  \n"
     ]
    }
   ],
   "source": [
    "pd.options.mode.chained_assignment = None\n",
    "features[\"sex\"] = features[\"sex\"].astype('category').cat.codes\n",
    "features[\"age_group\"] = features[\"age_group\"].astype('category').cat.codes\n",
    "features = pd.get_dummies(features, columns=[\"race_ethnicity_combined\"], prefix=[\"race\"])\n",
    "features[\"medcond_yn\"] = features[\"medcond_yn\"].astype('category').cat.codes\n",
    "print(features.head())\n"
   ]
  },
  {
   "cell_type": "code",
   "execution_count": 18,
   "metadata": {},
   "outputs": [
    {
     "output_type": "stream",
     "name": "stdout",
     "text": [
      "   hosp_yn  icu_yn  death_yn\n0        0       0         0\n1        0       0         0\n2        0       0         0\n3        0       0         0\n4        0       0         0\n"
     ]
    }
   ],
   "source": [
    "labels[\"hosp_yn\"] = labels[\"hosp_yn\"].astype('category').cat.codes\n",
    "labels[\"icu_yn\"] = labels[\"icu_yn\"].astype('category').cat.codes\n",
    "labels[\"death_yn\"] = labels[\"death_yn\"].astype('category').cat.codes\n",
    "print(labels.head())"
   ]
  },
  {
   "cell_type": "code",
   "execution_count": 19,
   "metadata": {},
   "outputs": [],
   "source": [
    "from sklearn.model_selection import train_test_split\n",
    "x_train, x_test, y_train, y_test = train_test_split(features.to_numpy(), labels.to_numpy(), test_size=0.2, random_state=42)"
   ]
  },
  {
   "source": [
    "from tensorflow.keras.models import Sequential\n",
    "from tensorflow.keras.layers import Dense, Activation\n",
    "from tensorflow.keras.utils import normalize\n",
    "x_train = normalize(x_train, axis=1)\n",
    "x_test = normalize(x_test, axis=1)\n",
    "\n",
    "model = Sequential()\n",
    "model.add(Dense(10, input_dim=features.shape[1], activation='relu')) # Hidden 1\n",
    "model.add(Dense(10, activation='relu')) # Hidden 2\n",
    "model.add(Dense(3, activation='sigmoid')) # Output\n",
    "model.compile(loss='mean_squared_error', optimizer='adam', metrics=[\"accuracy\"])\n",
    "\n",
    "model.fit(x_train,y_train,validation_data=(x_test,y_test),epochs=20)"
   ],
   "cell_type": "code",
   "metadata": {},
   "execution_count": 20,
   "outputs": [
    {
     "output_type": "stream",
     "name": "stdout",
     "text": [
      "Epoch 1/20\n",
      "16061/16061 [==============================] - 19s 1ms/step - loss: 0.0811 - accuracy: 0.9473 - val_loss: 0.0714 - val_accuracy: 0.9781\n",
      "Epoch 2/20\n",
      "16061/16061 [==============================] - 19s 1ms/step - loss: 0.0706 - accuracy: 0.9808 - val_loss: 0.0711 - val_accuracy: 0.9912\n",
      "Epoch 3/20\n",
      "16061/16061 [==============================] - 18s 1ms/step - loss: 0.0706 - accuracy: 0.9909 - val_loss: 0.0708 - val_accuracy: 0.9912\n",
      "Epoch 4/20\n",
      "16061/16061 [==============================] - 17s 1ms/step - loss: 0.0703 - accuracy: 0.9910 - val_loss: 0.0707 - val_accuracy: 0.9912\n",
      "Epoch 5/20\n",
      "16061/16061 [==============================] - 15s 924us/step - loss: 0.0702 - accuracy: 0.9911 - val_loss: 0.0707 - val_accuracy: 0.9912\n",
      "Epoch 6/20\n",
      "16061/16061 [==============================] - 15s 960us/step - loss: 0.0702 - accuracy: 0.9912 - val_loss: 0.0707 - val_accuracy: 0.9912\n",
      "Epoch 7/20\n",
      "16061/16061 [==============================] - 16s 981us/step - loss: 0.0700 - accuracy: 0.9909 - val_loss: 0.0707 - val_accuracy: 0.9912\n",
      "Epoch 8/20\n",
      "16061/16061 [==============================] - 15s 965us/step - loss: 0.0700 - accuracy: 0.9912 - val_loss: 0.0707 - val_accuracy: 0.9912\n",
      "Epoch 9/20\n",
      "16061/16061 [==============================] - 15s 928us/step - loss: 0.0700 - accuracy: 0.9912 - val_loss: 0.0708 - val_accuracy: 0.9912\n",
      "Epoch 10/20\n",
      "16061/16061 [==============================] - 15s 950us/step - loss: 0.0700 - accuracy: 0.9909 - val_loss: 0.0706 - val_accuracy: 0.9912\n",
      "Epoch 11/20\n",
      "16061/16061 [==============================] - 15s 937us/step - loss: 0.0702 - accuracy: 0.9907 - val_loss: 0.0706 - val_accuracy: 0.9912\n",
      "Epoch 12/20\n",
      "16061/16061 [==============================] - 16s 979us/step - loss: 0.0701 - accuracy: 0.9908 - val_loss: 0.0705 - val_accuracy: 0.9912\n",
      "Epoch 13/20\n",
      "16061/16061 [==============================] - 14s 892us/step - loss: 0.0701 - accuracy: 0.9912 - val_loss: 0.0707 - val_accuracy: 0.9912\n",
      "Epoch 14/20\n",
      "16061/16061 [==============================] - 14s 896us/step - loss: 0.0700 - accuracy: 0.9908 - val_loss: 0.0706 - val_accuracy: 0.9912\n",
      "Epoch 15/20\n",
      "16061/16061 [==============================] - 15s 905us/step - loss: 0.0699 - accuracy: 0.9910 - val_loss: 0.0706 - val_accuracy: 0.9912\n",
      "Epoch 16/20\n",
      "16061/16061 [==============================] - 15s 940us/step - loss: 0.0702 - accuracy: 0.9908 - val_loss: 0.0706 - val_accuracy: 0.9912\n",
      "Epoch 17/20\n",
      "16061/16061 [==============================] - 16s 968us/step - loss: 0.0701 - accuracy: 0.9909 - val_loss: 0.0706 - val_accuracy: 0.9912\n",
      "Epoch 18/20\n",
      "16061/16061 [==============================] - 15s 936us/step - loss: 0.0704 - accuracy: 0.9907 - val_loss: 0.0705 - val_accuracy: 0.9912\n",
      "Epoch 19/20\n",
      "16061/16061 [==============================] - 15s 933us/step - loss: 0.0699 - accuracy: 0.9911 - val_loss: 0.0707 - val_accuracy: 0.9912\n",
      "Epoch 20/20\n",
      "16061/16061 [==============================] - 17s 1ms/step - loss: 0.0701 - accuracy: 0.9911 - val_loss: 0.0705 - val_accuracy: 0.9912\n"
     ]
    },
    {
     "output_type": "execute_result",
     "data": {
      "text/plain": [
       "<tensorflow.python.keras.callbacks.History at 0x2356be26ca0>"
      ]
     },
     "metadata": {},
     "execution_count": 20
    }
   ]
  },
  {
   "cell_type": "code",
   "execution_count": 21,
   "metadata": {},
   "outputs": [
    {
     "output_type": "stream",
     "name": "stdout",
     "text": [
      "4016/4016 [==============================] - 3s 672us/step - loss: 0.0705 - accuracy: 0.9912\n",
      "Test Loss: 0.07053086161613464, Test Accuracy: 0.9912205338478088\n"
     ]
    }
   ],
   "source": [
    "test_loss, test_acc = model.evaluate(x=x_test, y=y_test) \n",
    "print(f\"Test Loss: {test_loss}, Test Accuracy: {test_acc}\")"
   ]
  },
  {
   "cell_type": "code",
   "execution_count": 22,
   "metadata": {},
   "outputs": [],
   "source": [
    "import os\n",
    "model.save(os.path.join(\"./model/\",\"covid_model.h5\"))"
   ]
  },
  {
   "cell_type": "code",
   "execution_count": 25,
   "metadata": {},
   "outputs": [
    {
     "output_type": "stream",
     "name": "stdout",
     "text": [
      "2    103062\n5     97649\n4     91822\n3     91432\n6     82583\n1     61168\n7     53846\n8     39577\n0     21269\nName: age_group, dtype: int64 \n\n"
     ]
    }
   ],
   "source": [
    "print(features.age_group.value_counts(), '\\n')"
   ]
  },
  {
   "cell_type": "code",
   "execution_count": null,
   "metadata": {},
   "outputs": [],
   "source": []
  }
 ]
}