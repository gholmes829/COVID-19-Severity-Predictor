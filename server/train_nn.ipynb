{
 "metadata": {
  "language_info": {
   "codemirror_mode": {
    "name": "ipython",
    "version": 3
   },
   "file_extension": ".py",
   "mimetype": "text/x-python",
   "name": "python",
   "nbconvert_exporter": "python",
   "pygments_lexer": "ipython3",
   "version": "3.8.5-final"
  },
  "orig_nbformat": 2,
  "kernelspec": {
   "name": "python385jvsc74a57bd02106d0fb1fed122fab7666594c17d7d7ac0cec37878bb076542b770068e7d9b1",
   "display_name": "Python 3.8.5 64-bit ('neural': conda)"
  }
 },
 "nbformat": 4,
 "nbformat_minor": 2,
 "cells": [
  {
   "cell_type": "code",
   "execution_count": 26,
   "metadata": {},
   "outputs": [
    {
     "output_type": "stream",
     "name": "stderr",
     "text": [
      "WARNING:root:Requests made without an app_token will be subject to strict throttling limits.\n"
     ]
    }
   ],
   "source": [
    "# make sure to install these packages before running:\n",
    "# pip install pandas\n",
    "# pip install sodapy\n",
    "\n",
    "import pandas as pd\n",
    "from sodapy import Socrata\n",
    "\n",
    "# Unauthenticated client only works with public data sets. Note 'None'\n",
    "# in place of application token, and no username or password:\n",
    "client = Socrata(\"data.cdc.gov\", None)\n",
    "\n",
    "# Example authenticated client (needed for non-public datasets):\n",
    "# client = Socrata(data.cdc.gov,\n",
    "#                  MyAppToken,\n",
    "#                  userame=\"user@example.com\",\n",
    "#                  password=\"AFakePassword\")\n",
    "\n",
    "# First 2000 results, returned as JSON from API / converted to Python list of\n",
    "# dictionaries by sodapy.\n",
    "results = client.get_all(\"vbim-akqf\", where=\"(hosp_yn != 'Unknown') and (hosp_yn != 'Missing') and (icu_yn != 'Unknown') and (icu_yn != 'Missing') and (death_yn != 'Unknown') and (death_yn != 'Missing') and (sex != 'Unknown') and (sex != 'Missing') and (sex != 'Other') and (sex != 'NA') and (age_group != 'Missing') and (age_group != 'NA') and (race_ethnicity_combined != 'Missing') and  (race_ethnicity_combined != 'NA') and (race_ethnicity_combined != 'Unknown') and (medcond_yn != 'Missing') and (medcond_yn != 'Unknown')\", limit=22500000)\n",
    "# Convert to pandas DataFrame\n",
    "df = pd.DataFrame.from_records(results)"
   ]
  },
  {
   "cell_type": "code",
   "execution_count": 27,
   "metadata": {},
   "outputs": [
    {
     "output_type": "stream",
     "name": "stdout",
     "text": [
      "      sex    age_group race_ethnicity_combined hosp_yn icu_yn death_yn  \\\n0  Female  0 - 9 Years     White, Non-Hispanic      No     No       No   \n1  Female  0 - 9 Years     White, Non-Hispanic      No     No       No   \n2  Female  0 - 9 Years     White, Non-Hispanic      No     No       No   \n3  Female  0 - 9 Years     White, Non-Hispanic      No     No       No   \n4  Female  0 - 9 Years     White, Non-Hispanic      No     No       No   \n\n  medcond_yn  \n0        Yes  \n1         No  \n2         No  \n3         No  \n4        Yes  \n(642408, 7)\n"
     ]
    }
   ],
   "source": [
    "new_df = df.iloc[:,5:12]\n",
    "\n",
    "print(new_df.head())\n",
    "print(new_df.shape)"
   ]
  },
  {
   "cell_type": "code",
   "execution_count": 28,
   "metadata": {},
   "outputs": [
    {
     "output_type": "stream",
     "name": "stdout",
     "text": [
      "Female    342353\n",
      "Male      300055\n",
      "Name: sex, dtype: int64 \n",
      "\n",
      "20 - 29 Years    103062\n",
      "50 - 59 Years     97649\n",
      "40 - 49 Years     91822\n",
      "30 - 39 Years     91432\n",
      "60 - 69 Years     82583\n",
      "10 - 19 Years     61168\n",
      "70 - 79 Years     53846\n",
      "80+ Years         39577\n",
      "0 - 9 Years       21269\n",
      "Name: age_group, dtype: int64 \n",
      "\n",
      "White, Non-Hispanic                                     399689\n",
      "Hispanic/Latino                                         127430\n",
      "Black, Non-Hispanic                                      66657\n",
      "Multiple/Other, Non-Hispanic                             23417\n",
      "Asian, Non-Hispanic                                      19514\n",
      "Native Hawaiian/Other Pacific Islander, Non-Hispanic      3535\n",
      "American Indian/Alaska Native, Non-Hispanic               2166\n",
      "Name: race_ethnicity_combined, dtype: int64 \n",
      "\n",
      "No     332902\n",
      "Yes    309506\n",
      "Name: medcond_yn, dtype: int64 \n",
      "\n"
     ]
    }
   ],
   "source": [
    "print(new_df.sex.value_counts(), '\\n')\n",
    "print(new_df.age_group.value_counts(), '\\n')\n",
    "print(new_df.race_ethnicity_combined.value_counts(), '\\n')\n",
    "print(new_df.medcond_yn.value_counts(), '\\n')"
   ]
  },
  {
   "cell_type": "code",
   "execution_count": 29,
   "metadata": {},
   "outputs": [
    {
     "output_type": "stream",
     "name": "stdout",
     "text": [
      "No     523988\n",
      "Yes    118420\n",
      "Name: hosp_yn, dtype: int64 \n",
      "\n",
      "No     603347\n",
      "Yes     39061\n",
      "Name: icu_yn, dtype: int64 \n",
      "\n",
      "No     601211\n",
      "Yes     41197\n",
      "Name: death_yn, dtype: int64 \n",
      "\n"
     ]
    }
   ],
   "source": [
    "print(df.hosp_yn.value_counts(), '\\n')\n",
    "print(df.icu_yn.value_counts(), '\\n')\n",
    "print(df.death_yn.value_counts(), '\\n')"
   ]
  },
  {
   "cell_type": "code",
   "execution_count": 30,
   "metadata": {},
   "outputs": [
    {
     "output_type": "stream",
     "name": "stdout",
     "text": [
      "      sex    age_group race_ethnicity_combined medcond_yn\n0  Female  0 - 9 Years     White, Non-Hispanic        Yes\n1  Female  0 - 9 Years     White, Non-Hispanic         No\n2  Female  0 - 9 Years     White, Non-Hispanic         No\n3  Female  0 - 9 Years     White, Non-Hispanic         No\n4  Female  0 - 9 Years     White, Non-Hispanic        Yes \n\n  hosp_yn icu_yn death_yn\n0      No     No       No\n1      No     No       No\n2      No     No       No\n3      No     No       No\n4      No     No       No \n\n"
     ]
    }
   ],
   "source": [
    "features = new_df.iloc[:,[0,1,2,6]]\n",
    "labels = new_df.iloc[:,[3,4,5]]\n",
    "\n",
    "print(features.head(), '\\n')\n",
    "print(labels.head(), '\\n')"
   ]
  },
  {
   "cell_type": "code",
   "execution_count": 31,
   "metadata": {},
   "outputs": [
    {
     "output_type": "stream",
     "name": "stdout",
     "text": [
      "   sex  age_group  medcond_yn  \\\n0    0          0           1   \n1    0          0           0   \n2    0          0           0   \n3    0          0           0   \n4    0          0           1   \n\n   race_American Indian/Alaska Native, Non-Hispanic  race_Asian, Non-Hispanic  \\\n0                                                 0                         0   \n1                                                 0                         0   \n2                                                 0                         0   \n3                                                 0                         0   \n4                                                 0                         0   \n\n   race_Black, Non-Hispanic  race_Hispanic/Latino  \\\n0                         0                     0   \n1                         0                     0   \n2                         0                     0   \n3                         0                     0   \n4                         0                     0   \n\n   race_Multiple/Other, Non-Hispanic  \\\n0                                  0   \n1                                  0   \n2                                  0   \n3                                  0   \n4                                  0   \n\n   race_Native Hawaiian/Other Pacific Islander, Non-Hispanic  \\\n0                                                  0           \n1                                                  0           \n2                                                  0           \n3                                                  0           \n4                                                  0           \n\n   race_White, Non-Hispanic  \n0                         1  \n1                         1  \n2                         1  \n3                         1  \n4                         1  \n"
     ]
    }
   ],
   "source": [
    "pd.options.mode.chained_assignment = None\n",
    "features[\"sex\"] = features[\"sex\"].astype('category').cat.codes\n",
    "features[\"age_group\"] = features[\"age_group\"].astype('category').cat.codes\n",
    "features = pd.get_dummies(features, columns=[\"race_ethnicity_combined\"], prefix=[\"race\"])\n",
    "features[\"medcond_yn\"] = features[\"medcond_yn\"].astype('category').cat.codes\n",
    "print(features.head())\n"
   ]
  },
  {
   "cell_type": "code",
   "execution_count": 32,
   "metadata": {},
   "outputs": [
    {
     "output_type": "stream",
     "name": "stdout",
     "text": [
      "   hosp_yn  icu_yn  death_yn\n0        0       0         0\n1        0       0         0\n2        0       0         0\n3        0       0         0\n4        0       0         0\n"
     ]
    }
   ],
   "source": [
    "labels[\"hosp_yn\"] = labels[\"hosp_yn\"].astype('category').cat.codes\n",
    "labels[\"icu_yn\"] = labels[\"icu_yn\"].astype('category').cat.codes\n",
    "labels[\"death_yn\"] = labels[\"death_yn\"].astype('category').cat.codes\n",
    "print(labels.head())"
   ]
  },
  {
   "cell_type": "code",
   "execution_count": 33,
   "metadata": {},
   "outputs": [],
   "source": [
    "from sklearn.model_selection import train_test_split\n",
    "x_train, x_test, y_train, y_test = train_test_split(features.to_numpy(), labels.to_numpy(), test_size=0.2, random_state=42)"
   ]
  },
  {
   "source": [
    "from tensorflow.keras.models import Sequential\n",
    "from tensorflow.keras.layers import Dense, Activation\n",
    "from tensorflow.keras.utils import normalize\n",
    "x_train = normalize(x_train, axis=1)\n",
    "x_test = normalize(x_test, axis=1)"
   ],
   "cell_type": "code",
   "metadata": {},
   "execution_count": 34,
   "outputs": []
  },
  {
   "cell_type": "code",
   "execution_count": 35,
   "metadata": {},
   "outputs": [
    {
     "output_type": "stream",
     "name": "stdout",
     "text": [
      "Epoch 1/20\n",
      "16061/16061 [==============================] - 17s 1ms/step - loss: 0.0848 - accuracy: 0.8961 - val_loss: 0.1225 - val_accuracy: 0.8199\n",
      "Epoch 2/20\n",
      "16061/16061 [==============================] - 16s 1ms/step - loss: 0.0767 - accuracy: 0.8981 - val_loss: 0.1254 - val_accuracy: 0.8216\n",
      "Epoch 3/20\n",
      "16061/16061 [==============================] - 16s 1ms/step - loss: 0.0764 - accuracy: 0.8984 - val_loss: 0.1274 - val_accuracy: 0.8197\n",
      "Epoch 4/20\n",
      "16061/16061 [==============================] - 16s 1ms/step - loss: 0.0764 - accuracy: 0.8981 - val_loss: 0.1205 - val_accuracy: 0.8236\n",
      "Epoch 5/20\n",
      "16061/16061 [==============================] - 17s 1ms/step - loss: 0.0763 - accuracy: 0.8985 - val_loss: 0.1273 - val_accuracy: 0.8216\n",
      "Epoch 6/20\n",
      "16061/16061 [==============================] - 17s 1ms/step - loss: 0.0765 - accuracy: 0.8981 - val_loss: 0.1284 - val_accuracy: 0.8181\n",
      "Epoch 7/20\n",
      "16061/16061 [==============================] - 16s 992us/step - loss: 0.0763 - accuracy: 0.8983 - val_loss: 0.1251 - val_accuracy: 0.8236\n",
      "Epoch 8/20\n",
      "16061/16061 [==============================] - 17s 1ms/step - loss: 0.0767 - accuracy: 0.8976 - val_loss: 0.1245 - val_accuracy: 0.8220\n",
      "Epoch 9/20\n",
      "16061/16061 [==============================] - 18s 1ms/step - loss: 0.0762 - accuracy: 0.8985 - val_loss: 0.1267 - val_accuracy: 0.8198\n",
      "Epoch 10/20\n",
      "16061/16061 [==============================] - 18s 1ms/step - loss: 0.0763 - accuracy: 0.8983 - val_loss: 0.1259 - val_accuracy: 0.8201\n",
      "Epoch 11/20\n",
      "16061/16061 [==============================] - 20s 1ms/step - loss: 0.0763 - accuracy: 0.8981 - val_loss: 0.1280 - val_accuracy: 0.8190\n",
      "Epoch 12/20\n",
      "16061/16061 [==============================] - 19s 1ms/step - loss: 0.0766 - accuracy: 0.8979 - val_loss: 0.1215 - val_accuracy: 0.8234\n",
      "Epoch 13/20\n",
      "16061/16061 [==============================] - 18s 1ms/step - loss: 0.0765 - accuracy: 0.8979 - val_loss: 0.1229 - val_accuracy: 0.8223\n",
      "Epoch 14/20\n",
      "16061/16061 [==============================] - 16s 1000us/step - loss: 0.0765 - accuracy: 0.8982 - val_loss: 0.1225 - val_accuracy: 0.8235\n",
      "Epoch 15/20\n",
      "16061/16061 [==============================] - 16s 1ms/step - loss: 0.0761 - accuracy: 0.8989 - val_loss: 0.1224 - val_accuracy: 0.8236\n",
      "Epoch 16/20\n",
      "16061/16061 [==============================] - 16s 1ms/step - loss: 0.0760 - accuracy: 0.8987 - val_loss: 0.1239 - val_accuracy: 0.8232\n",
      "Epoch 17/20\n",
      "16061/16061 [==============================] - 16s 1ms/step - loss: 0.0763 - accuracy: 0.8981 - val_loss: 0.1218 - val_accuracy: 0.8240\n",
      "Epoch 18/20\n",
      "16061/16061 [==============================] - 16s 986us/step - loss: 0.0768 - accuracy: 0.8976 - val_loss: 0.1260 - val_accuracy: 0.8220\n",
      "Epoch 19/20\n",
      "16061/16061 [==============================] - 16s 1ms/step - loss: 0.0762 - accuracy: 0.8983 - val_loss: 0.1259 - val_accuracy: 0.8202\n",
      "Epoch 20/20\n",
      "16061/16061 [==============================] - 16s 979us/step - loss: 0.0764 - accuracy: 0.8982 - val_loss: 0.1231 - val_accuracy: 0.8235\n"
     ]
    },
    {
     "output_type": "execute_result",
     "data": {
      "text/plain": [
       "<tensorflow.python.keras.callbacks.History at 0x2350c053ca0>"
      ]
     },
     "metadata": {},
     "execution_count": 35
    }
   ],
   "source": [
    "modelHosp = Sequential()\n",
    "modelHosp.add(Dense(10, input_dim=features.shape[1], activation='relu'))\n",
    "modelHosp.add(Dense(10, activation='relu'))\n",
    "modelHosp.add(Dense(1, activation='sigmoid'))\n",
    "modelHosp.compile(loss='mean_squared_error', optimizer='adam', metrics=[\"accuracy\"])\n",
    "modelHosp.fit(x_train,y_train,validation_data=(x_test,y_test[:,0]),epochs=20)"
   ]
  },
  {
   "cell_type": "code",
   "execution_count": 36,
   "metadata": {},
   "outputs": [
    {
     "output_type": "stream",
     "name": "stdout",
     "text": [
      "Epoch 1/20\n",
      "16061/16061 [==============================] - 17s 1ms/step - loss: 0.0822 - accuracy: 0.8976 - val_loss: 0.0609 - val_accuracy: 0.9313\n",
      "Epoch 2/20\n",
      "16061/16061 [==============================] - 18s 1ms/step - loss: 0.0770 - accuracy: 0.8979 - val_loss: 0.0550 - val_accuracy: 0.9362\n",
      "Epoch 3/20\n",
      "16061/16061 [==============================] - 18s 1ms/step - loss: 0.0765 - accuracy: 0.8983 - val_loss: 0.0554 - val_accuracy: 0.9361\n",
      "Epoch 4/20\n",
      "16061/16061 [==============================] - 18s 1ms/step - loss: 0.0765 - accuracy: 0.8983 - val_loss: 0.0552 - val_accuracy: 0.9359\n",
      "Epoch 5/20\n",
      "16061/16061 [==============================] - 18s 1ms/step - loss: 0.0763 - accuracy: 0.8986 - val_loss: 0.0580 - val_accuracy: 0.9339\n",
      "Epoch 6/20\n",
      "16061/16061 [==============================] - 16s 988us/step - loss: 0.0765 - accuracy: 0.8981 - val_loss: 0.0547 - val_accuracy: 0.9349\n",
      "Epoch 7/20\n",
      "16061/16061 [==============================] - 16s 984us/step - loss: 0.0763 - accuracy: 0.8984 - val_loss: 0.0579 - val_accuracy: 0.9338\n",
      "Epoch 8/20\n",
      "16061/16061 [==============================] - 17s 1ms/step - loss: 0.0763 - accuracy: 0.8984 - val_loss: 0.0570 - val_accuracy: 0.9344\n",
      "Epoch 9/20\n",
      "16061/16061 [==============================] - 16s 992us/step - loss: 0.0762 - accuracy: 0.8984 - val_loss: 0.0586 - val_accuracy: 0.9339\n",
      "Epoch 10/20\n",
      "16061/16061 [==============================] - 15s 947us/step - loss: 0.0765 - accuracy: 0.8979 - val_loss: 0.0552 - val_accuracy: 0.9362\n",
      "Epoch 11/20\n",
      "16061/16061 [==============================] - 15s 953us/step - loss: 0.0763 - accuracy: 0.8980 - val_loss: 0.0562 - val_accuracy: 0.9347\n",
      "Epoch 12/20\n",
      "16061/16061 [==============================] - 15s 948us/step - loss: 0.0762 - accuracy: 0.8987 - val_loss: 0.0553 - val_accuracy: 0.9348\n",
      "Epoch 13/20\n",
      "16061/16061 [==============================] - 19s 1ms/step - loss: 0.0762 - accuracy: 0.8985 - val_loss: 0.0582 - val_accuracy: 0.9330\n",
      "Epoch 14/20\n",
      "16061/16061 [==============================] - 18s 1ms/step - loss: 0.0765 - accuracy: 0.8981 - val_loss: 0.0562 - val_accuracy: 0.9362\n",
      "Epoch 15/20\n",
      "16061/16061 [==============================] - 18s 1ms/step - loss: 0.0763 - accuracy: 0.8986 - val_loss: 0.0543 - val_accuracy: 0.9348\n",
      "Epoch 16/20\n",
      "16061/16061 [==============================] - 18s 1ms/step - loss: 0.0760 - accuracy: 0.8987 - val_loss: 0.0600 - val_accuracy: 0.9323\n",
      "Epoch 17/20\n",
      "16061/16061 [==============================] - 17s 1ms/step - loss: 0.0766 - accuracy: 0.8983 - val_loss: 0.0546 - val_accuracy: 0.9363\n",
      "Epoch 18/20\n",
      "16061/16061 [==============================] - 18s 1ms/step - loss: 0.0764 - accuracy: 0.8980 - val_loss: 0.0546 - val_accuracy: 0.9348\n",
      "Epoch 19/20\n",
      "16061/16061 [==============================] - 20s 1ms/step - loss: 0.0762 - accuracy: 0.8985 - val_loss: 0.0589 - val_accuracy: 0.9338\n",
      "Epoch 20/20\n",
      "16061/16061 [==============================] - 18s 1ms/step - loss: 0.0765 - accuracy: 0.8978 - val_loss: 0.0556 - val_accuracy: 0.9348\n"
     ]
    },
    {
     "output_type": "execute_result",
     "data": {
      "text/plain": [
       "<tensorflow.python.keras.callbacks.History at 0x23506acb5e0>"
      ]
     },
     "metadata": {},
     "execution_count": 36
    }
   ],
   "source": [
    "modelIcu = Sequential()\n",
    "modelIcu.add(Dense(10, input_dim=features.shape[1], activation='relu'))\n",
    "modelIcu.add(Dense(10, activation='relu'))\n",
    "modelIcu.add(Dense(1, activation='sigmoid'))\n",
    "modelIcu.compile(loss='mean_squared_error', optimizer='adam', metrics=[\"accuracy\"])\n",
    "modelIcu.fit(x_train,y_train,validation_data=(x_test,y_test[:,1]),epochs=20)"
   ]
  },
  {
   "cell_type": "code",
   "execution_count": 37,
   "metadata": {},
   "outputs": [
    {
     "output_type": "stream",
     "name": "stdout",
     "text": [
      "Epoch 1/20\n",
      "16061/16061 [==============================] - 18s 1ms/step - loss: 0.0894 - accuracy: 0.8857 - val_loss: 0.0515 - val_accuracy: 0.9352\n",
      "Epoch 2/20\n",
      "16061/16061 [==============================] - 18s 1ms/step - loss: 0.0767 - accuracy: 0.8982 - val_loss: 0.0498 - val_accuracy: 0.9351\n",
      "Epoch 3/20\n",
      "16061/16061 [==============================] - 17s 1ms/step - loss: 0.0766 - accuracy: 0.8979 - val_loss: 0.0498 - val_accuracy: 0.9352\n",
      "Epoch 4/20\n",
      "16061/16061 [==============================] - 17s 1ms/step - loss: 0.0763 - accuracy: 0.8987 - val_loss: 0.0513 - val_accuracy: 0.9352\n",
      "Epoch 5/20\n",
      "16061/16061 [==============================] - 18s 1ms/step - loss: 0.0765 - accuracy: 0.8982 - val_loss: 0.0490 - val_accuracy: 0.9359\n",
      "Epoch 6/20\n",
      "16061/16061 [==============================] - 17s 1ms/step - loss: 0.0764 - accuracy: 0.8984 - val_loss: 0.0502 - val_accuracy: 0.9351\n",
      "Epoch 7/20\n",
      "16061/16061 [==============================] - 18s 1ms/step - loss: 0.0763 - accuracy: 0.8982 - val_loss: 0.0504 - val_accuracy: 0.9352\n",
      "Epoch 8/20\n",
      "16061/16061 [==============================] - 17s 1ms/step - loss: 0.0763 - accuracy: 0.8984 - val_loss: 0.0516 - val_accuracy: 0.9348\n",
      "Epoch 9/20\n",
      "16061/16061 [==============================] - 17s 1ms/step - loss: 0.0765 - accuracy: 0.8982 - val_loss: 0.0520 - val_accuracy: 0.9348\n",
      "Epoch 10/20\n",
      "16061/16061 [==============================] - 18s 1ms/step - loss: 0.0764 - accuracy: 0.8982 - val_loss: 0.0496 - val_accuracy: 0.9351\n",
      "Epoch 11/20\n",
      "16061/16061 [==============================] - 17s 1ms/step - loss: 0.0761 - accuracy: 0.8987 - val_loss: 0.0500 - val_accuracy: 0.9353\n",
      "Epoch 12/20\n",
      "16061/16061 [==============================] - 18s 1ms/step - loss: 0.0762 - accuracy: 0.8985 - val_loss: 0.0500 - val_accuracy: 0.9353\n",
      "Epoch 13/20\n",
      "16061/16061 [==============================] - 18s 1ms/step - loss: 0.0763 - accuracy: 0.8984 - val_loss: 0.0499 - val_accuracy: 0.9353\n",
      "Epoch 14/20\n",
      "16061/16061 [==============================] - 18s 1ms/step - loss: 0.0766 - accuracy: 0.8979 - val_loss: 0.0503 - val_accuracy: 0.9348\n",
      "Epoch 15/20\n",
      "16061/16061 [==============================] - 17s 1ms/step - loss: 0.0762 - accuracy: 0.8983 - val_loss: 0.0505 - val_accuracy: 0.9348\n",
      "Epoch 16/20\n",
      "16061/16061 [==============================] - 18s 1ms/step - loss: 0.0762 - accuracy: 0.8985 - val_loss: 0.0488 - val_accuracy: 0.9359\n",
      "Epoch 17/20\n",
      "16061/16061 [==============================] - 18s 1ms/step - loss: 0.0765 - accuracy: 0.8982 - val_loss: 0.0501 - val_accuracy: 0.9348\n",
      "Epoch 18/20\n",
      "16061/16061 [==============================] - 17s 1ms/step - loss: 0.0765 - accuracy: 0.8982 - val_loss: 0.0497 - val_accuracy: 0.9353\n",
      "Epoch 19/20\n",
      "16061/16061 [==============================] - 17s 1ms/step - loss: 0.0765 - accuracy: 0.8982 - val_loss: 0.0506 - val_accuracy: 0.9352\n",
      "Epoch 20/20\n",
      "16061/16061 [==============================] - 18s 1ms/step - loss: 0.0763 - accuracy: 0.8983 - val_loss: 0.0510 - val_accuracy: 0.9348\n"
     ]
    },
    {
     "output_type": "execute_result",
     "data": {
      "text/plain": [
       "<tensorflow.python.keras.callbacks.History at 0x2355c87b7c0>"
      ]
     },
     "metadata": {},
     "execution_count": 37
    }
   ],
   "source": [
    "modelDeath = Sequential()\n",
    "modelDeath.add(Dense(10, input_dim=features.shape[1], activation='relu'))\n",
    "modelDeath.add(Dense(10, activation='relu'))\n",
    "modelDeath.add(Dense(1, activation='sigmoid'))\n",
    "modelDeath.compile(loss='mean_squared_error', optimizer='adam', metrics=[\"accuracy\"])\n",
    "modelDeath.fit(x_train,y_train,validation_data=(x_test,y_test[:,2]),epochs=20)"
   ]
  },
  {
   "cell_type": "code",
   "execution_count": 38,
   "metadata": {},
   "outputs": [
    {
     "output_type": "stream",
     "name": "stdout",
     "text": [
      "4016/4016 [==============================] - 3s 741us/step - loss: 0.0705 - accuracy: 0.9912\n",
      "Test Loss: 0.07053086161613464, Test Accuracy: 0.9912205338478088\n"
     ]
    }
   ],
   "source": [
    "test_loss, test_acc = model.evaluate(x=x_test, y=y_test) \n",
    "print(f\"Test Loss: {test_loss}, Test Accuracy: {test_acc}\")"
   ]
  },
  {
   "cell_type": "code",
   "execution_count": 39,
   "metadata": {},
   "outputs": [],
   "source": [
    "import os\n",
    "modelHosp.save(os.path.join(\"./model/\",\"covid_model_hosp.h5\"))\n",
    "modelIcu.save(os.path.join(\"./model/\",\"covid_model_icu.h5\"))\n",
    "modelDeath.save(os.path.join(\"./model/\",\"covid_model_death.h5\"))"
   ]
  },
  {
   "cell_type": "code",
   "execution_count": null,
   "metadata": {},
   "outputs": [],
   "source": []
  }
 ]
}